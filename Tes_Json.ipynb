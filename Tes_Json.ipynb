{
  "nbformat": 4,
  "nbformat_minor": 0,
  "metadata": {
    "colab": {
      "provenance": [],
      "authorship_tag": "ABX9TyP/y9RJG36OamIBYHmIpHGB",
      "include_colab_link": true
    },
    "kernelspec": {
      "name": "python3",
      "display_name": "Python 3"
    },
    "language_info": {
      "name": "python"
    }
  },
  "cells": [
    {
      "cell_type": "markdown",
      "metadata": {
        "id": "view-in-github",
        "colab_type": "text"
      },
      "source": [
        "<a href=\"https://colab.research.google.com/github/mochammadzakydwiarli/tes_json/blob/main/Tes_Json.ipynb\" target=\"_parent\"><img src=\"https://colab.research.google.com/assets/colab-badge.svg\" alt=\"Open In Colab\"/></a>"
      ]
    },
    {
      "cell_type": "markdown",
      "source": [
        "# Contoh 1: Menerima inputan berupa variabel dengan format json"
      ],
      "metadata": {
        "id": "J8xvXD5bTz3W"
      }
    },
    {
      "cell_type": "markdown",
      "source": [
        "## Buat data dummy terlebih dulu"
      ],
      "metadata": {
        "id": "JlnpQp_uT53H"
      }
    },
    {
      "cell_type": "code",
      "execution_count": 3,
      "metadata": {
        "colab": {
          "base_uri": "https://localhost:8080/"
        },
        "id": "2vHCZ4WTTw9f",
        "outputId": "b91e48a3-6e4f-4974-ef39-ff0161d6261d"
      },
      "outputs": [
        {
          "output_type": "stream",
          "name": "stdout",
          "text": [
            "[{\"name\":\"a\",\"value\":1},{\"name\":\"b\",\"value\":2},{\"name\":\"c\",\"value\":3}]\n"
          ]
        }
      ],
      "source": [
        "# Buat data dummy terlebih dulu\n",
        "import pandas as pd\n",
        "\n",
        "# membuat objek dataframe\n",
        "abc = pd.DataFrame({\"name\":[\"a\",\"b\",\"c\"],\"value\":[1,2,3]})\n",
        "\n",
        "# konversi dataframe ke dalam bentuk json\n",
        "# dapat digunakan jika data di python diolah dalam bentuk dataframe,\n",
        "# sedangkan input dari API berupa data json.\n",
        "\n",
        "input_json = abc.to_json(orient=\"records\", date_format='iso')\n",
        "\n",
        "print(input_json)"
      ]
    },
    {
      "cell_type": "markdown",
      "source": [
        "## Definisikan Fungsinya"
      ],
      "metadata": {
        "id": "5koI_i6OUvgu"
      }
    },
    {
      "cell_type": "code",
      "source": [
        "# Fungsi 1: menerima input dalam format json untuk diterapkan metode 1\n",
        "def receiving_order(metode_id, input_json):\n",
        "  if metode_id == 1:\n",
        "    return 1\n",
        "  else:\n",
        "    return 0"
      ],
      "metadata": {
        "id": "WxdjLEISUDIS"
      },
      "execution_count": 10,
      "outputs": []
    },
    {
      "cell_type": "code",
      "source": [
        "# Fungsi 2: mengeluarkan output dalam format json jika metode 1 dipilih\n",
        "def process(process_id):\n",
        "  if process_id == 1:\n",
        "    output_json = input_json\n",
        "    return output_json\n",
        "  else:\n",
        "    return 0"
      ],
      "metadata": {
        "id": "Z3Zx5OAYUHTO"
      },
      "execution_count": 11,
      "outputs": []
    },
    {
      "cell_type": "markdown",
      "source": [
        "## Contoh Penggunaan Fungsi"
      ],
      "metadata": {
        "id": "CDhuYKlVUy9I"
      }
    },
    {
      "cell_type": "code",
      "source": [
        "# contoh penggunaan fungsi 1\n",
        "receiving_order(1, input_json)"
      ],
      "metadata": {
        "colab": {
          "base_uri": "https://localhost:8080/"
        },
        "id": "alsOWMW1UHjZ",
        "outputId": "269691c8-50d9-4466-e7cd-27abff57affe"
      },
      "execution_count": 12,
      "outputs": [
        {
          "output_type": "execute_result",
          "data": {
            "text/plain": [
              "1"
            ]
          },
          "metadata": {},
          "execution_count": 12
        }
      ]
    },
    {
      "cell_type": "code",
      "source": [
        "# contoh penggunaan fungsi 2\n",
        "process(1)"
      ],
      "metadata": {
        "colab": {
          "base_uri": "https://localhost:8080/",
          "height": 35
        },
        "id": "LgISE6jDUHuA",
        "outputId": "cb6268a0-e4d8-48d9-9652-437dbcc56c60"
      },
      "execution_count": 13,
      "outputs": [
        {
          "output_type": "execute_result",
          "data": {
            "text/plain": [
              "'[{\"name\":\"a\",\"value\":1},{\"name\":\"b\",\"value\":2},{\"name\":\"c\",\"value\":3}]'"
            ],
            "application/vnd.google.colaboratory.intrinsic+json": {
              "type": "string"
            }
          },
          "metadata": {},
          "execution_count": 13
        }
      ]
    },
    {
      "cell_type": "markdown",
      "source": [
        "# Contoh 2: Menerima inputan berupa path menuju file .json"
      ],
      "metadata": {
        "id": "424jEPi0UmhW"
      }
    },
    {
      "cell_type": "markdown",
      "source": [
        "## Buat data dummy terlebih dulu"
      ],
      "metadata": {
        "id": "TW0JG1e1U1-H"
      }
    },
    {
      "cell_type": "code",
      "source": [
        "# Buat data dummy terlebih dulu\n",
        "import pandas as pd\n",
        "\n",
        "# membuat objek dataframe\n",
        "abc = pd.DataFrame({\"name\":[\"a\",\"b\",\"c\"],\"value\":[1,2,3]})\n",
        "\n",
        "# konversi dataframe ke dalam bentuk json\n",
        "# dapat digunakan jika data di python diolah dalam bentuk dataframe,\n",
        "# sedangkan input dari API berupa data json.\n",
        "\n",
        "input_json = abc.to_json(orient=\"records\", date_format='iso')\n",
        "input_path = \"file_input.json\"\n",
        "\n",
        "# menuliskan .json file ke path yang diberikan\n",
        "with open(input_path, \"w\") as outfile:\n",
        "    outfile.write(input_json)"
      ],
      "metadata": {
        "id": "RwUA8bxWUsn7"
      },
      "execution_count": 2,
      "outputs": []
    },
    {
      "cell_type": "markdown",
      "source": [
        "## Definisikan Fungsi"
      ],
      "metadata": {
        "id": "Oph_dYj0Z6DQ"
      }
    },
    {
      "cell_type": "code",
      "source": [
        "# Fungsi 1: menerima input berupa path menuju file .json untuk diterapkan metode 1\n",
        "def receiving_order2(metode_id, input_path):\n",
        "  if metode_id == 1:\n",
        "    return 1\n",
        "  else:\n",
        "    return 0"
      ],
      "metadata": {
        "id": "2mtmpAKLWLQu"
      },
      "execution_count": 3,
      "outputs": []
    },
    {
      "cell_type": "code",
      "source": [
        "# Fungsi 2: membaca file .json dari input_path, kemudian menuliskan file .json ke output_path jika metode 1 dipilih\n",
        "def process2(process_id):\n",
        "  if process_id == 1:\n",
        "\n",
        "    # membaca file .json\n",
        "    with open(input_path, \"r\") as infile:\n",
        "      input_json = infile.read()\n",
        "\n",
        "    # menuliskan file .json\n",
        "    output_path = \"file_output.json\"\n",
        "    with open(output_path, \"w\") as outfile:\n",
        "      outfile.write(input_json)\n",
        "    return output_path\n",
        "  else:\n",
        "    return 0"
      ],
      "metadata": {
        "id": "0zj-Yj_0Wz1P"
      },
      "execution_count": 7,
      "outputs": []
    },
    {
      "cell_type": "markdown",
      "source": [
        "## Contoh Penggunaan"
      ],
      "metadata": {
        "id": "SDr0j6KMZ8fy"
      }
    },
    {
      "cell_type": "code",
      "source": [
        "# contoh penggunaan fungsi 1\n",
        "receiving_order2(1, input_path)"
      ],
      "metadata": {
        "colab": {
          "base_uri": "https://localhost:8080/"
        },
        "id": "wLTxtsi9Z9z_",
        "outputId": "f43447ef-9f02-4c8c-80a6-eddd1a4a5f9d"
      },
      "execution_count": 8,
      "outputs": [
        {
          "output_type": "execute_result",
          "data": {
            "text/plain": [
              "1"
            ]
          },
          "metadata": {},
          "execution_count": 8
        }
      ]
    },
    {
      "cell_type": "code",
      "source": [
        "# contoh penggunaan fungsi 2\n",
        "process2(1)"
      ],
      "metadata": {
        "colab": {
          "base_uri": "https://localhost:8080/",
          "height": 35
        },
        "id": "nscSwn8XaDjm",
        "outputId": "63fc82f5-98e5-4e66-a8f9-eca6eab353a6"
      },
      "execution_count": 9,
      "outputs": [
        {
          "output_type": "execute_result",
          "data": {
            "text/plain": [
              "'file_output.json'"
            ],
            "application/vnd.google.colaboratory.intrinsic+json": {
              "type": "string"
            }
          },
          "metadata": {},
          "execution_count": 9
        }
      ]
    },
    {
      "cell_type": "code",
      "source": [],
      "metadata": {
        "id": "KaLik1t2bCdy"
      },
      "execution_count": null,
      "outputs": []
    }
  ]
}